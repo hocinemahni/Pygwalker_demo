import pandas as pd
import pygwalker as pyg

# Load the data
data_df = pd.read_csv("data.csv")
print("Aperçu des données:")
print(data_df.head())

# Start interactive exploration
pyg.walk(data_df)
